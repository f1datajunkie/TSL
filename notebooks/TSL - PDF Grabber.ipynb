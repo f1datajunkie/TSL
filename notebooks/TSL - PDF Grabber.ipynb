{
 "cells": [
  {
   "cell_type": "markdown",
   "metadata": {},
   "source": [
    "# TSL - PDF Grabber\n",
    "\n",
    "A notebook for finding and downloading TSL timing sheet PDFs.\n"
   ]
  },
  {
   "cell_type": "code",
   "execution_count": 172,
   "metadata": {},
   "outputs": [],
   "source": [
    "import datetime\n",
    "\n",
    "#Use this year as default\n",
    "YEAR = datetime.datetime.now().year\n",
    "\n",
    "year = year\n",
    "\n",
    "domain = 'http://www.tsl-timing.com'\n",
    "\n",
    "\n",
    "results_url='http://www.tsl-timing.com/Results'\n",
    "\n",
    "series = 'toca'\n",
    "series_url='http://www.tsl-timing.com/Results/{}/{}'.format(series, year)\n",
    "\n",
    "event_id = 191403\n",
    "\n",
    "event_url='http://www.tsl-timing.com/event/{}'.format(event_id)"
   ]
  },
  {
   "cell_type": "code",
   "execution_count": 157,
   "metadata": {},
   "outputs": [],
   "source": [
    "download_dir_base = 'tsl_results_data'"
   ]
  },
  {
   "cell_type": "code",
   "execution_count": 104,
   "metadata": {},
   "outputs": [],
   "source": [
    "import requests\n",
    "from bs4 import BeautifulSoup\n",
    "import os"
   ]
  },
  {
   "cell_type": "markdown",
   "metadata": {},
   "source": [
    "## Get All Results Info\n",
    "\n",
    "Get a list of links to all clubs and series."
   ]
  },
  {
   "cell_type": "code",
   "execution_count": 159,
   "metadata": {},
   "outputs": [],
   "source": [
    "resultspage=requests.get(results_url)\n",
    "resultssoup=BeautifulSoup(resultspage.content)"
   ]
  },
  {
   "cell_type": "code",
   "execution_count": 167,
   "metadata": {},
   "outputs": [
    {
     "data": {
      "text/plain": [
       "<a href=\"/Results/bf3gt/\" title=\"View British GT and Support events for 2019.\">\n",
       "<div class=\"clubListDiv\">\n",
       "<div class=\"clubListLogoDiv\">\n",
       "<img class=\"clubListLogo\" src=\"/Images/series/2019/f3logo3.jpg\"/>\n",
       "</div>\n",
       "<div class=\"clubListTitle\">British GT and Support</div>\n",
       "</div>\n",
       "</a>"
      ]
     },
     "execution_count": 167,
     "metadata": {},
     "output_type": "execute_result"
    }
   ],
   "source": [
    "resultsseries=resultssoup.find('div',{'class':'clubListContainer'}).findAll('a')\n",
    "resultsseries[0]"
   ]
  },
  {
   "cell_type": "code",
   "execution_count": 170,
   "metadata": {},
   "outputs": [],
   "source": [
    "import pandas as pd"
   ]
  },
  {
   "cell_type": "code",
   "execution_count": 171,
   "metadata": {},
   "outputs": [
    {
     "data": {
      "text/html": [
       "<div>\n",
       "<style scoped>\n",
       "    .dataframe tbody tr th:only-of-type {\n",
       "        vertical-align: middle;\n",
       "    }\n",
       "\n",
       "    .dataframe tbody tr th {\n",
       "        vertical-align: top;\n",
       "    }\n",
       "\n",
       "    .dataframe thead th {\n",
       "        text-align: right;\n",
       "    }\n",
       "</style>\n",
       "<table border=\"1\" class=\"dataframe\">\n",
       "  <thead>\n",
       "    <tr style=\"text-align: right;\">\n",
       "      <th></th>\n",
       "      <th>_series</th>\n",
       "      <th>_series_event</th>\n",
       "      <th>_series_logo_path</th>\n",
       "      <th>_series_url</th>\n",
       "    </tr>\n",
       "  </thead>\n",
       "  <tbody>\n",
       "    <tr>\n",
       "      <th>0</th>\n",
       "      <td>bf3gt</td>\n",
       "      <td>British GT and Support</td>\n",
       "      <td>/Images/series/2019/f3logo3.jpg</td>\n",
       "      <td>/Results/bf3gt/</td>\n",
       "    </tr>\n",
       "    <tr>\n",
       "      <th>1</th>\n",
       "      <td>bsb</td>\n",
       "      <td>British Superbikes</td>\n",
       "      <td>/Images/series/2019/bsblogo3.jpg</td>\n",
       "      <td>/Results/bsb/</td>\n",
       "    </tr>\n",
       "    <tr>\n",
       "      <th>2</th>\n",
       "      <td>toca</td>\n",
       "      <td>BTCC and Support</td>\n",
       "      <td>/Images/series/2019/btcclogo3.jpg</td>\n",
       "      <td>/Results/toca/</td>\n",
       "    </tr>\n",
       "    <tr>\n",
       "      <th>3</th>\n",
       "      <td>f1</td>\n",
       "      <td>F1 Team Testing</td>\n",
       "      <td>/Images/series/f1.jpg</td>\n",
       "      <td>/Results/f1/</td>\n",
       "    </tr>\n",
       "    <tr>\n",
       "      <th>4</th>\n",
       "      <td>pwc</td>\n",
       "      <td>GT World Challenge America</td>\n",
       "      <td>/Images/series/2019/wc-usa.jpg</td>\n",
       "      <td>/Results/pwc/</td>\n",
       "    </tr>\n",
       "    <tr>\n",
       "      <th>5</th>\n",
       "      <td>gtasia</td>\n",
       "      <td>GT World Challenge Asia</td>\n",
       "      <td>/Images/series/2019/GTAsia.jpg</td>\n",
       "      <td>/Results/gtasia/</td>\n",
       "    </tr>\n",
       "    <tr>\n",
       "      <th>6</th>\n",
       "      <td>BarcMclaren</td>\n",
       "      <td>McLaren GT4</td>\n",
       "      <td>/Images/series/BARCMcLaren.png</td>\n",
       "      <td>/Results/BarcMclaren/</td>\n",
       "    </tr>\n",
       "    <tr>\n",
       "      <th>7</th>\n",
       "      <td>BritishRX</td>\n",
       "      <td>Motorsport UK British Rally X</td>\n",
       "      <td>/Images/series/2019/BRX.jpg</td>\n",
       "      <td>/Results/BritishRX/</td>\n",
       "    </tr>\n",
       "    <tr>\n",
       "      <th>8</th>\n",
       "      <td>roc</td>\n",
       "      <td>Race of Champions</td>\n",
       "      <td>/Images/series/ROC.png</td>\n",
       "      <td>/Results/roc/</td>\n",
       "    </tr>\n",
       "    <tr>\n",
       "      <th>9</th>\n",
       "      <td>tcruk</td>\n",
       "      <td>TCR UK</td>\n",
       "      <td>/Images/series/tcruk.png</td>\n",
       "      <td>/Results/tcruk/</td>\n",
       "    </tr>\n",
       "  </tbody>\n",
       "</table>\n",
       "</div>"
      ],
      "text/plain": [
       "       _series                  _series_event  \\\n",
       "0        bf3gt         British GT and Support   \n",
       "1          bsb             British Superbikes   \n",
       "2         toca               BTCC and Support   \n",
       "3           f1                F1 Team Testing   \n",
       "4          pwc     GT World Challenge America   \n",
       "5       gtasia        GT World Challenge Asia   \n",
       "6  BarcMclaren                    McLaren GT4   \n",
       "7    BritishRX  Motorsport UK British Rally X   \n",
       "8          roc              Race of Champions   \n",
       "9        tcruk                         TCR UK   \n",
       "\n",
       "                   _series_logo_path            _series_url  \n",
       "0    /Images/series/2019/f3logo3.jpg        /Results/bf3gt/  \n",
       "1   /Images/series/2019/bsblogo3.jpg          /Results/bsb/  \n",
       "2  /Images/series/2019/btcclogo3.jpg         /Results/toca/  \n",
       "3              /Images/series/f1.jpg           /Results/f1/  \n",
       "4     /Images/series/2019/wc-usa.jpg          /Results/pwc/  \n",
       "5     /Images/series/2019/GTAsia.jpg       /Results/gtasia/  \n",
       "6     /Images/series/BARCMcLaren.png  /Results/BarcMclaren/  \n",
       "7        /Images/series/2019/BRX.jpg    /Results/BritishRX/  \n",
       "8             /Images/series/ROC.png          /Results/roc/  \n",
       "9           /Images/series/tcruk.png        /Results/tcruk/  "
      ]
     },
     "execution_count": 171,
     "metadata": {},
     "output_type": "execute_result"
    }
   ],
   "source": [
    "def get_TSL_series(results_url='http://www.tsl-timing.com/Results'):\n",
    "    \n",
    "    resultspage=requests.get(results_url)\n",
    "    resultssoup=BeautifulSoup(resultspage.content)\n",
    "    \n",
    "    resultsseries=resultssoup.find('div',{'class':'clubListContainer'}).findAll('a')\n",
    "    \n",
    "    _data = []\n",
    "    for seriesresult in resultsseries:\n",
    "        _series_url = seriesresult['href']\n",
    "        _series = _series_url.strip('/').split('/')[-1]\n",
    "        _series_logo_path = seriesresult.find('img')['src']\n",
    "        _series_event = seriesresult.find('div',{'class':'clubListTitle'}).text\n",
    "        #print(_series_url,_series_logo_path, _series, _series_event )\n",
    "        _data.append({'_series_url':_series_url,\n",
    "                      '_series_logo_path':_series_logo_path,\n",
    "                      '_series':_series,\n",
    "                      '_series_event':_series_event})\n",
    "        \n",
    "    return pd.DataFrame( _data )\n",
    "    \n",
    "get_TSL_series()"
   ]
  },
  {
   "cell_type": "markdown",
   "metadata": {},
   "source": [
    "## Get Series Pages\n",
    "\n",
    "Get a list of links for each event in a series."
   ]
  },
  {
   "cell_type": "code",
   "execution_count": 179,
   "metadata": {},
   "outputs": [
    {
     "data": {
      "text/html": [
       "<div>\n",
       "<style scoped>\n",
       "    .dataframe tbody tr th:only-of-type {\n",
       "        vertical-align: middle;\n",
       "    }\n",
       "\n",
       "    .dataframe tbody tr th {\n",
       "        vertical-align: top;\n",
       "    }\n",
       "\n",
       "    .dataframe thead th {\n",
       "        text-align: right;\n",
       "    }\n",
       "</style>\n",
       "<table border=\"1\" class=\"dataframe\">\n",
       "  <thead>\n",
       "    <tr style=\"text-align: right;\">\n",
       "      <th></th>\n",
       "      <th>_event_date</th>\n",
       "      <th>_event_name</th>\n",
       "      <th>_event_url</th>\n",
       "    </tr>\n",
       "  </thead>\n",
       "  <tbody>\n",
       "    <tr>\n",
       "      <th>0</th>\n",
       "      <td>6th Apr - 7th Apr 2019</td>\n",
       "      <td>British Touring Car Championship - Round 1 - 6...</td>\n",
       "      <td>/event/191403</td>\n",
       "    </tr>\n",
       "    <tr>\n",
       "      <th>1</th>\n",
       "      <td>27th Apr - 28th Apr 2019</td>\n",
       "      <td>BTCC</td>\n",
       "      <td>/event/191703</td>\n",
       "    </tr>\n",
       "    <tr>\n",
       "      <th>2</th>\n",
       "      <td>18th May - 19th May 2019</td>\n",
       "      <td>BTCC</td>\n",
       "      <td>/event/192003</td>\n",
       "    </tr>\n",
       "    <tr>\n",
       "      <th>3</th>\n",
       "      <td>15th Jun - 16th Jun 2019</td>\n",
       "      <td>BTCC</td>\n",
       "      <td>/event/192403</td>\n",
       "    </tr>\n",
       "    <tr>\n",
       "      <th>4</th>\n",
       "      <td>29th Jun - 30th Jun 2019</td>\n",
       "      <td>BTCC</td>\n",
       "      <td>/event/192603</td>\n",
       "    </tr>\n",
       "    <tr>\n",
       "      <th>5</th>\n",
       "      <td>3rd Aug - 4th Aug 2019</td>\n",
       "      <td>BTCC</td>\n",
       "      <td>/event/193103</td>\n",
       "    </tr>\n",
       "    <tr>\n",
       "      <th>6</th>\n",
       "      <td>17th Aug - 18th Aug 2019</td>\n",
       "      <td>BTCC</td>\n",
       "      <td>/event/193303</td>\n",
       "    </tr>\n",
       "    <tr>\n",
       "      <th>7</th>\n",
       "      <td>14th Sept - 15th Sept 2019</td>\n",
       "      <td>BTCC</td>\n",
       "      <td>/event/193703</td>\n",
       "    </tr>\n",
       "    <tr>\n",
       "      <th>8</th>\n",
       "      <td>28th Sept - 29th Sept 2019</td>\n",
       "      <td>BTCC</td>\n",
       "      <td>/event/193903</td>\n",
       "    </tr>\n",
       "    <tr>\n",
       "      <th>9</th>\n",
       "      <td>12th Oct - 13th Oct 2019</td>\n",
       "      <td>BTCC</td>\n",
       "      <td>/event/194103</td>\n",
       "    </tr>\n",
       "  </tbody>\n",
       "</table>\n",
       "</div>"
      ],
      "text/plain": [
       "                  _event_date  \\\n",
       "0      6th Apr - 7th Apr 2019   \n",
       "1    27th Apr - 28th Apr 2019   \n",
       "2    18th May - 19th May 2019   \n",
       "3    15th Jun - 16th Jun 2019   \n",
       "4    29th Jun - 30th Jun 2019   \n",
       "5      3rd Aug - 4th Aug 2019   \n",
       "6    17th Aug - 18th Aug 2019   \n",
       "7  14th Sept - 15th Sept 2019   \n",
       "8  28th Sept - 29th Sept 2019   \n",
       "9    12th Oct - 13th Oct 2019   \n",
       "\n",
       "                                         _event_name     _event_url  \n",
       "0  British Touring Car Championship - Round 1 - 6...  /event/191403  \n",
       "1                                              BTCC   /event/191703  \n",
       "2                                              BTCC   /event/192003  \n",
       "3                                              BTCC   /event/192403  \n",
       "4                                              BTCC   /event/192603  \n",
       "5                                              BTCC   /event/193103  \n",
       "6                                              BTCC   /event/193303  \n",
       "7                                              BTCC   /event/193703  \n",
       "8                                              BTCC   /event/193903  \n",
       "9                                              BTCC   /event/194103  "
      ]
     },
     "execution_count": 179,
     "metadata": {},
     "output_type": "execute_result"
    }
   ],
   "source": [
    "def get_TSL_series_events(series='toca', year = YEAR ):\n",
    "    \n",
    "    series_url='http://www.tsl-timing.com/Results/{}/{}'.format(series, year)\n",
    "    \n",
    "    seriespage=requests.get(series_url)\n",
    "    seriessoup=BeautifulSoup(seriespage.content)\n",
    "\n",
    "    seriesevents=seriessoup.find('div',{'id':'races'}).findAll('a')\n",
    "\n",
    "    _data = []\n",
    "    \n",
    "    for seriesevent in seriesevents:\n",
    "        _event_url = seriesevent['href']\n",
    "        _event_txt = seriesevent.find('div',{'class':'clubEventText'}).text\n",
    "\n",
    "        _event_txt_parts = _event_txt.strip('\\n').split('\\n')\n",
    "        _event_date = _event_txt_parts[0]\n",
    "        _event_name = _event_txt_parts[1]\n",
    "\n",
    "        #print(_event_txt_parts)\n",
    "        _data.append( {'_event_url':_event_url,\n",
    "                       '_event_date':_event_date,\n",
    "                       '_event_name':_event_name } )\n",
    "        \n",
    "    return pd.DataFrame( _data )\n",
    "\n",
    "get_TSL_series_events('toca')"
   ]
  },
  {
   "cell_type": "markdown",
   "metadata": {},
   "source": [
    "### Get Event PDFs\n",
    "\n",
    "Download PDFs relating to a particular event."
   ]
  },
  {
   "cell_type": "code",
   "execution_count": 155,
   "metadata": {},
   "outputs": [],
   "source": [
    "eventpage=requests.get(event_url)\n",
    "eventsoup=BeautifulSoup(eventpage.content)"
   ]
  },
  {
   "cell_type": "code",
   "execution_count": 156,
   "metadata": {},
   "outputs": [
    {
     "data": {
      "text/plain": [
       "True"
      ]
     },
     "execution_count": 156,
     "metadata": {},
     "output_type": "execute_result"
    }
   ],
   "source": [
    "#check that event data is available\n",
    "data_available = False if eventsoup.find(\"h3\", string=\"Event data available soon\") else True"
   ]
  },
  {
   "cell_type": "code",
   "execution_count": 154,
   "metadata": {},
   "outputs": [
    {
     "data": {
      "text/plain": [
       "'/Images/Tracks/f3/OultonParkInternational.jpg'"
      ]
     },
     "execution_count": 154,
     "metadata": {},
     "output_type": "execute_result"
    }
   ],
   "source": [
    "event_map_url = eventsoup.find('img',{'class':'eventMapImage'})['src']\n",
    "event_map_url"
   ]
  },
  {
   "cell_type": "code",
   "execution_count": 137,
   "metadata": {},
   "outputs": [],
   "source": [
    "events=eventsoup.findAll('div',{'class':'championshipDiv'})"
   ]
  },
  {
   "cell_type": "code",
   "execution_count": 116,
   "metadata": {},
   "outputs": [],
   "source": [
    "p = '{}/{}/{}'.format(download_dir_base,series,year)"
   ]
  },
  {
   "cell_type": "code",
   "execution_count": 133,
   "metadata": {},
   "outputs": [
    {
     "name": "stdout",
     "output_type": "stream",
     "text": [
      "Downloading F4 British Championship [/file/?f=TOCA/2019/191403bf4.pdf]\n",
      "Downloading Kwik Fit British Touring Car Championship [/file/?f=TOCA/2019/191403trg.pdf]\n",
      "Downloading Michelin Ginetta Junior Championship [/file/?f=TOCA/2019/191403gij.pdf]\n",
      "Downloading Millers Oils Ginetta GT4 SuperCup Championship [/file/?f=TOCA/2019/191403g50.pdf]\n",
      "Downloading Porsche Carrera Cup GB [/file/?f=TOCA/2019/191403por.pdf]\n",
      "Downloading Renault UK Clio Cup [/file/?f=TOCA/2019/191403cli.pdf]\n",
      "Files downloaded to ./toca/2019\n"
     ]
    }
   ],
   "source": [
    "if not os.path.exists(p):\n",
    "    os.makedirs(p)\n",
    "\n",
    "download=True\n",
    "\n",
    "for event in events:\n",
    "    championship_name = event.find('h3').text\n",
    "    championship_url = event.find('a')['href']\n",
    "    if download:\n",
    "        print('Downloading: {} [{}]'.format(championship_name, championship_url))\n",
    "        if championship_url.endswith('.pdf'):\n",
    "            cmd = 'curl -o \"{fp}\" {url}'.format(url='{}{}'.format(domain,championship_url),fp='{}/{}.pdf'.format(p,championship_name))\n",
    "            os.system(cmd)\n",
    "        print('Files downloaded to: {}'.format(p))"
   ]
  },
  {
   "cell_type": "markdown",
   "metadata": {},
   "source": [
    "Put all that together..."
   ]
  },
  {
   "cell_type": "code",
   "execution_count": 190,
   "metadata": {},
   "outputs": [
    {
     "data": {
      "text/html": [
       "<div>\n",
       "<style scoped>\n",
       "    .dataframe tbody tr th:only-of-type {\n",
       "        vertical-align: middle;\n",
       "    }\n",
       "\n",
       "    .dataframe tbody tr th {\n",
       "        vertical-align: top;\n",
       "    }\n",
       "\n",
       "    .dataframe thead th {\n",
       "        text-align: right;\n",
       "    }\n",
       "</style>\n",
       "<table border=\"1\" class=\"dataframe\">\n",
       "  <thead>\n",
       "    <tr style=\"text-align: right;\">\n",
       "      <th></th>\n",
       "      <th>championship_name</th>\n",
       "      <th>championship_stub</th>\n",
       "      <th>championship_url</th>\n",
       "    </tr>\n",
       "  </thead>\n",
       "  <tbody>\n",
       "    <tr>\n",
       "      <th>0</th>\n",
       "      <td>F4 British Championship</td>\n",
       "      <td>bf4</td>\n",
       "      <td>/file/?f=TOCA/2019/191403bf4.pdf</td>\n",
       "    </tr>\n",
       "    <tr>\n",
       "      <th>1</th>\n",
       "      <td>Kwik Fit British Touring Car Championship</td>\n",
       "      <td>trg</td>\n",
       "      <td>/file/?f=TOCA/2019/191403trg.pdf</td>\n",
       "    </tr>\n",
       "    <tr>\n",
       "      <th>2</th>\n",
       "      <td>Michelin Ginetta Junior Championship</td>\n",
       "      <td>gij</td>\n",
       "      <td>/file/?f=TOCA/2019/191403gij.pdf</td>\n",
       "    </tr>\n",
       "    <tr>\n",
       "      <th>3</th>\n",
       "      <td>Millers Oils Ginetta GT4 SuperCup Championship</td>\n",
       "      <td>g50</td>\n",
       "      <td>/file/?f=TOCA/2019/191403g50.pdf</td>\n",
       "    </tr>\n",
       "    <tr>\n",
       "      <th>4</th>\n",
       "      <td>Porsche Carrera Cup GB</td>\n",
       "      <td>por</td>\n",
       "      <td>/file/?f=TOCA/2019/191403por.pdf</td>\n",
       "    </tr>\n",
       "    <tr>\n",
       "      <th>5</th>\n",
       "      <td>Renault UK Clio Cup</td>\n",
       "      <td>cli</td>\n",
       "      <td>/file/?f=TOCA/2019/191403cli.pdf</td>\n",
       "    </tr>\n",
       "  </tbody>\n",
       "</table>\n",
       "</div>"
      ],
      "text/plain": [
       "                                championship_name championship_stub  \\\n",
       "0                         F4 British Championship               bf4   \n",
       "1       Kwik Fit British Touring Car Championship               trg   \n",
       "2            Michelin Ginetta Junior Championship               gij   \n",
       "3  Millers Oils Ginetta GT4 SuperCup Championship               g50   \n",
       "4                          Porsche Carrera Cup GB               por   \n",
       "5                             Renault UK Clio Cup               cli   \n",
       "\n",
       "                   championship_url  \n",
       "0  /file/?f=TOCA/2019/191403bf4.pdf  \n",
       "1  /file/?f=TOCA/2019/191403trg.pdf  \n",
       "2  /file/?f=TOCA/2019/191403gij.pdf  \n",
       "3  /file/?f=TOCA/2019/191403g50.pdf  \n",
       "4  /file/?f=TOCA/2019/191403por.pdf  \n",
       "5  /file/?f=TOCA/2019/191403cli.pdf  "
      ]
     },
     "execution_count": 190,
     "metadata": {},
     "output_type": "execute_result"
    }
   ],
   "source": [
    "\n",
    "\n",
    "def get_TSL_event_data(event_id = 191403, download = False, dirpath='results'):\n",
    "    \n",
    "    event_url='http://www.tsl-timing.com/event/{}'.format(event_id)\n",
    "    \n",
    "    eventpage=requests.get(event_url)\n",
    "    eventsoup=BeautifulSoup(eventpage.content)\n",
    "    \n",
    "    data_available = False if eventsoup.find(\"h3\", string=\"Event data available soon\") else True\n",
    "    \n",
    "    _data=[]\n",
    "    \n",
    "    if data_available:\n",
    "        events=eventsoup.findAll('div',{'class':'championshipDiv'})\n",
    "        \n",
    "        if not os.path.exists(dirpath):\n",
    "            os.makedirs(dirpath)\n",
    "\n",
    "        for event in events:\n",
    "            championship_name = event.find('h3').text\n",
    "            championship_url = event.find('a')['href']\n",
    "            championship_stub = championship_url.split('/')[-1].split('.')[0].replace(str(event_id),'')\n",
    "            _data.append({'championship_name':championship_name,\n",
    "                          'championship_url':championship_url,\n",
    "                          'championship_stub': championship_stub})\n",
    "            \n",
    "            if download:\n",
    "                print('Downloading: {} [{}]'.format(championship_name, championship_url))\n",
    "                if championship_url.endswith('.pdf'):\n",
    "                    cmd = 'curl -o \"{fp}\" {url}'.format(url='{}{}'.format(domain,championship_url),\n",
    "                                                        fp='{}/{}.pdf'.format(dirpath,championship_name))\n",
    "                    os.system(cmd)\n",
    "        \n",
    "        if download:\n",
    "            print('Files downloaded to: {}'.format(dirpath))\n",
    "        \n",
    "    return pd.DataFrame( _data )\n",
    "\n",
    "#p = '{}/{}/{}'.format(download_dir_base,series,year)\n",
    "#get_TSL_event_data(dirpath = p)\n",
    "get_TSL_event_data()\n",
    "\n",
    "#Looks like we can pull out further srubs from end of PDF filename?"
   ]
  },
  {
   "cell_type": "code",
   "execution_count": 134,
   "metadata": {},
   "outputs": [
    {
     "name": "stdout",
     "output_type": "stream",
     "text": [
      "F4 British Championship.pdf\r\n",
      "Kwik Fit British Touring Car Championship.pdf\r\n",
      "Michelin Ginetta Junior Championship.pdf\r\n",
      "Millers Oils Ginetta GT4 SuperCup Championship.pdf\r\n",
      "Porsche Carrera Cup GB.pdf\r\n",
      "Renault UK Clio Cup.pdf\r\n"
     ]
    }
   ],
   "source": [
    "!ls ./toca/2019"
   ]
  },
  {
   "cell_type": "code",
   "execution_count": 191,
   "metadata": {},
   "outputs": [
    {
     "name": "stdout",
     "output_type": "stream",
     "text": [
      "Downloading: Dunlop Endurance Championship [/file/?f=EERC/2019/191363bce.pdf]\n",
      "Files downloaded to: results\n"
     ]
    },
    {
     "data": {
      "text/html": [
       "<div>\n",
       "<style scoped>\n",
       "    .dataframe tbody tr th:only-of-type {\n",
       "        vertical-align: middle;\n",
       "    }\n",
       "\n",
       "    .dataframe tbody tr th {\n",
       "        vertical-align: top;\n",
       "    }\n",
       "\n",
       "    .dataframe thead th {\n",
       "        text-align: right;\n",
       "    }\n",
       "</style>\n",
       "<table border=\"1\" class=\"dataframe\">\n",
       "  <thead>\n",
       "    <tr style=\"text-align: right;\">\n",
       "      <th></th>\n",
       "      <th>championship_name</th>\n",
       "      <th>championship_stub</th>\n",
       "      <th>championship_url</th>\n",
       "    </tr>\n",
       "  </thead>\n",
       "  <tbody>\n",
       "    <tr>\n",
       "      <th>0</th>\n",
       "      <td>Dunlop Endurance Championship</td>\n",
       "      <td>bce</td>\n",
       "      <td>/file/?f=EERC/2019/191363bce.pdf</td>\n",
       "    </tr>\n",
       "  </tbody>\n",
       "</table>\n",
       "</div>"
      ],
      "text/plain": [
       "               championship_name championship_stub  \\\n",
       "0  Dunlop Endurance Championship               bce   \n",
       "\n",
       "                   championship_url  \n",
       "0  /file/?f=EERC/2019/191363bce.pdf  "
      ]
     },
     "execution_count": 191,
     "metadata": {},
     "output_type": "execute_result"
    }
   ],
   "source": [
    "#https://www.tsl-timing.com/event/191363\n",
    "get_TSL_event_data(191363, True)"
   ]
  },
  {
   "cell_type": "code",
   "execution_count": 192,
   "metadata": {},
   "outputs": [
    {
     "name": "stdout",
     "output_type": "stream",
     "text": [
      "Dunlop Endurance Championship.pdf\r\n"
     ]
    }
   ],
   "source": [
    "!ls results"
   ]
  },
  {
   "cell_type": "markdown",
   "metadata": {},
   "source": [
    "## Alternative PDF Grabber\n",
    "\n",
    "The PDF grabber will download copies of all timing sheet booklets for the current season.\n",
    "\n",
    "Explore alternative variant using `requests-html`."
   ]
  },
  {
   "cell_type": "code",
   "execution_count": 21,
   "metadata": {},
   "outputs": [],
   "source": [
    "#!pip3 install requests-html"
   ]
  },
  {
   "cell_type": "code",
   "execution_count": 95,
   "metadata": {},
   "outputs": [],
   "source": [
    "listing_url='http://www.tsl-timing.com/Results/toca/'\n",
    "\n",
    "#scrape races tab\n",
    "#go to event page\n",
    "#for each series:\n",
    "## grab name\n",
    "## select appropriate series folder name\n",
    "## create folder if not exist\n",
    "## grab \"View PDF Book\" URL\n",
    "## download booklet to appropriate series folder with event name as part of URL"
   ]
  },
  {
   "cell_type": "code",
   "execution_count": 78,
   "metadata": {},
   "outputs": [
    {
     "name": "stdout",
     "output_type": "stream",
     "text": [
      "  % Total    % Received % Xferd  Average Speed   Time    Time     Time  Current\n",
      "                                 Dload  Upload   Total   Spent    Left  Speed\n",
      "100  589k  100  589k    0     0  1344k      0 --:--:-- --:--:-- --:--:-- 1343k\n",
      "  % Total    % Received % Xferd  Average Speed   Time    Time     Time  Current\n",
      "                                 Dload  Upload   Total   Spent    Left  Speed\n",
      "100 1564k  100 1564k    0     0  2142k      0 --:--:-- --:--:-- --:--:-- 2140k\n",
      "  % Total    % Received % Xferd  Average Speed   Time    Time     Time  Current\n",
      "                                 Dload  Upload   Total   Spent    Left  Speed\n",
      "100  867k  100  867k    0     0  1903k      0 --:--:-- --:--:-- --:--:-- 1906k\n",
      "  % Total    % Received % Xferd  Average Speed   Time    Time     Time  Current\n",
      "                                 Dload  Upload   Total   Spent    Left  Speed\n",
      "100  594k  100  594k    0     0  1539k      0 --:--:-- --:--:-- --:--:-- 1536k\n",
      "  % Total    % Received % Xferd  Average Speed   Time    Time     Time  Current\n",
      "                                 Dload  Upload   Total   Spent    Left  Speed\n",
      "100 1608k  100 1608k    0     0  2413k      0 --:--:-- --:--:-- --:--:-- 2415k\n",
      "  % Total    % Received % Xferd  Average Speed   Time    Time     Time  Current\n",
      "                                 Dload  Upload   Total   Spent    Left  Speed\n",
      "100 86694  100 86694    0     0   706k      0 --:--:-- --:--:-- --:--:--  711k\n",
      "  % Total    % Received % Xferd  Average Speed   Time    Time     Time  Current\n",
      "                                 Dload  Upload   Total   Spent    Left  Speed\n",
      "100 1138k  100 1138k    0     0  2040k      0 --:--:-- --:--:-- --:--:-- 2043k\n"
     ]
    }
   ],
   "source": [
    "import requests\n",
    "from bs4 import BeautifulSoup\n",
    "\n",
    "html = requests.get(listing_url).text\n",
    "\n",
    "soup = BeautifulSoup(html)\n",
    "\n",
    "div = soup.find('div', attrs={'id' : 'races'})\n",
    "\n",
    "stub='http://www.tsl-timing.com{}'\n",
    "\n",
    "\n",
    "from requests_html import HTMLSession\n",
    "session = HTMLSession()\n",
    "\n",
    "\n",
    "!mkdir -p 2019\n",
    "\n",
    "for a in div.findAll('a'):\n",
    "    event_url = stub.format(a['href'])\n",
    "    r = session.get(event_url)\n",
    "\n",
    "    xp = r.html.xpath('//*[@id=\"contentContainer\"]/section/h3')\n",
    "    if xp and xp[0].text=='Event data available soon':\n",
    "        break\n",
    "    \n",
    "    #the pts PDFs are champtionship points files\n",
    "    links = [l for l in r.html.links if l.endswith('.pdf') and 'pts' not in l]\n",
    "    #Grab PDFs\n",
    "    for l in links:\n",
    "        pdf_url=stub.format(l)\n",
    "        fn = l.split('/')[-1]\n",
    "        #!echo $pdf_url\n",
    "        !curl -o 2019/{fn} {pdf_url}"
   ]
  },
  {
   "cell_type": "code",
   "execution_count": 77,
   "metadata": {},
   "outputs": [
    {
     "name": "stdout",
     "output_type": "stream",
     "text": [
      "191403.pdf    191403cli.pdf 191403gij.pdf 191403trg.pdf\r\n",
      "191403bf4.pdf 191403g50.pdf 191403por.pdf\r\n"
     ]
    }
   ],
   "source": [
    "!ls 2019"
   ]
  },
  {
   "cell_type": "markdown",
   "metadata": {},
   "source": [
    "The filenames are coded according to datestamp and a letter code identifying the series."
   ]
  },
  {
   "cell_type": "code",
   "execution_count": null,
   "metadata": {},
   "outputs": [],
   "source": [
    "# See the R notebook - tabula scraper"
   ]
  },
  {
   "cell_type": "code",
   "execution_count": null,
   "metadata": {},
   "outputs": [],
   "source": []
  },
  {
   "cell_type": "code",
   "execution_count": null,
   "metadata": {},
   "outputs": [],
   "source": []
  },
  {
   "cell_type": "code",
   "execution_count": null,
   "metadata": {},
   "outputs": [],
   "source": []
  },
  {
   "cell_type": "code",
   "execution_count": null,
   "metadata": {},
   "outputs": [],
   "source": []
  }
 ],
 "metadata": {
  "jupytext": {
   "text_representation": {
    "extension": ".md",
    "format_name": "markdown",
    "format_version": "1.0",
    "jupytext_version": "0.8.6"
   }
  },
  "kernelspec": {
   "display_name": "Python 3",
   "language": "python",
   "name": "python3"
  },
  "language_info": {
   "codemirror_mode": {
    "name": "ipython",
    "version": 3
   },
   "file_extension": ".py",
   "mimetype": "text/x-python",
   "name": "python",
   "nbconvert_exporter": "python",
   "pygments_lexer": "ipython3",
   "version": "3.7.3"
  }
 },
 "nbformat": 4,
 "nbformat_minor": 2
}
